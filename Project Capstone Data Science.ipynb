{
 "cells": [
  {
   "cell_type": "markdown",
   "metadata": {},
   "source": [
    "# Coursera Capstone of Data Science - Data Analysis of Population Density and Venues in Munich"
   ]
  },
  {
   "cell_type": "markdown",
   "metadata": {},
   "source": [
    "### This notebook is used for showing the analysis of population density and venues in Munich"
   ]
  },
  {
   "cell_type": "markdown",
   "metadata": {},
   "source": [
    "## Introduction\n",
    "\n",
    "### Description and Discussion of Background\n",
    "\n",
    "Munich as the largest city of Bavaria, the third largest city in Germany behind Berlin and Hamburg is one of the rapidest growing cities in Germany. Along with the development of the city Munich is also a top destination for immigrants. The estimated population of Munich in 2019 is about 1.45 million and the the population density is at 4,500 per square kilometer, which is the highest in the country. \n",
    "\n",
    "The growth of industry and population makes Munich a hot city to do investments. There are 25 boroughs in Munich and every borough has different popular venues and population density. The relationship of population density could be a very interesting point for investors to consider which addresses the problem I want to analyze. \n",
    "\n",
    "A good way to analyze and visualize the problem is to create a map with information of people density and clustered venues' information.\n",
    "\n",
    "### Data Description\n",
    "\n"
   ]
  },
  {
   "cell_type": "code",
   "execution_count": null,
   "metadata": {},
   "outputs": [],
   "source": []
  }
 ],
 "metadata": {
  "kernelspec": {
   "display_name": "Python 3",
   "language": "python",
   "name": "python3"
  },
  "language_info": {
   "codemirror_mode": {
    "name": "ipython",
    "version": 3
   },
   "file_extension": ".py",
   "mimetype": "text/x-python",
   "name": "python",
   "nbconvert_exporter": "python",
   "pygments_lexer": "ipython3",
   "version": "3.6.8"
  }
 },
 "nbformat": 4,
 "nbformat_minor": 2
}
